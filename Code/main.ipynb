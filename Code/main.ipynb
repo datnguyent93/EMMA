{
 "cells": [
  {
   "cell_type": "code",
   "execution_count": 15,
   "metadata": {},
   "outputs": [
    {
     "name": "stderr",
     "output_type": "stream",
     "text": [
      "All PyTorch model weights were used when initializing TFGPT2LMHeadModel.\n",
      "\n",
      "All the weights of TFGPT2LMHeadModel were initialized from the PyTorch model.\n",
      "If your task is similar to the task the model of the checkpoint was trained on, you can already use TFGPT2LMHeadModel for predictions without further training.\n",
      "Setting `pad_token_id` to `eos_token_id`:50256 for open-end generation.\n"
     ]
    },
    {
     "name": "stdout",
     "output_type": "stream",
     "text": [
      "what day is today's date?\"\n",
      "Sophia, who has been living with her fiancé for four years and a half of the month she married him in February 2013, asked me if I would be willing to wait until April 2015. She explained that we were on holidays when they both took care not only financially but also physically so it was hard because he never saw us again after his death (he died last year). The reason Sophia got pregnant without giving birth before May 2014? He had become increasingly agitated over this issue as well – \"I can't let you see my face anymore.\" In fact, just months earlier during our marriage anniversary celebration there came an unexpected phone call from Saphira asking what happened next: My boyfriend wanted to know more about how much time could have gone by now while waiting — though no one at home knew where or even why exactly… It all started back around January 31st 2016 …\n",
      "\n",
      "\"He said 'We'll do something special,' which made everyone happy,\" told Phyllis; however nothing actually transpired further than two days later! And then three weeks ago another email sent out saying someone else needed help finding answers regarding their divorce case since Sofiana didn´t want any contact information other people shared online including family members. This guy wasn` t interested either…. At first glance its difficult for most women looking to get involved due mainly lacklustre relationships such marriages are usually quite easy-going affairs especially those involving many men.. But these conversations went way beyond simple gossiping & unkindness….. As anyone familiar enough knows, almost every single person ever brought up various issues within themselves concerning some topic like children / pets etc., i.-e. social situations/families matters... A lot of them simply did NOT give detailed descriptions nor tried to explain anything directly related whatsoever except having trouble getting comfortable talking through each others' feelings rather slowly trying everything together knowing fullwell nobody cared..... All kinds OF problems happening…… However apparently sphias decided eventually thai man finally found himself agreeing upon being able communicate via text message amongst friends(or maybe Facebook) instead of going into hiding altogether : ) So clearly somebody must've felt disappointed seeing things coming true.. One wonders whether philly woman herself may still feel lost forever?? For example  the very thought seemed obvious ~but suddenly realized?? Well guess whats worse? Is life ending??? Or does physical illness really cause suffering…………Well pretty sure hes probably better off staying dead lol ;) Why should egotistical young girls need advice based solely purely on personal experience alone\n"
     ]
    }
   ],
   "source": [
    "from transformers import TFGPT2LMHeadModel, GPT2Tokenizer\n",
    "\n",
    "tokenizer = GPT2Tokenizer.from_pretrained('gpt2')\n",
    "\n",
    "# Set the pad token to the EOS token\n",
    "tokenizer.pad_token = tokenizer.eos_token\n",
    "\n",
    "text = \"what day is today\"\n",
    "inputs = tokenizer(text, return_tensors=\"tf\", padding=True, truncation=True, max_length=2048)\n",
    "\n",
    "model = TFGPT2LMHeadModel.from_pretrained('gpt2')\n",
    "\n",
    "output_sequences = model.generate(\n",
    "    input_ids=inputs['input_ids'],\n",
    "    attention_mask=inputs['attention_mask'],\n",
    "    max_length=512,\n",
    "    temperature=0.7,\n",
    "    top_k=50,\n",
    "    top_p=0.95,\n",
    "    repetition_penalty=1.2,\n",
    "    do_sample=True,\n",
    "    num_return_sequences=1\n",
    ")\n",
    "\n",
    "generated_text = tokenizer.decode(output_sequences[0].numpy(), skip_special_tokens=True)\n",
    "print(generated_text)\n"
   ]
  },
  {
   "cell_type": "code",
   "execution_count": null,
   "metadata": {},
   "outputs": [],
   "source": []
  },
  {
   "cell_type": "code",
   "execution_count": 12,
   "metadata": {},
   "outputs": [
    {
     "name": "stdout",
     "output_type": "stream",
     "text": [
      "List the top 5 most populated cities in the world as of the latest data.\n",
      "- The largest city is Japan, but it's not necessarily big enough to include all its inhabitants (as we'll see below).\n",
      "\n",
      "'Tokyo', from Wikipedia: 'A Japanese town with a population exceeding 100 thousand people located on islands off China and Taiwan.' - In 2005 Tokyo was ranked #1 for global\n"
     ]
    }
   ],
   "source": [
    "print(generated_text)\n"
   ]
  }
 ],
 "metadata": {
  "kernelspec": {
   "display_name": "base",
   "language": "python",
   "name": "python3"
  },
  "language_info": {
   "codemirror_mode": {
    "name": "ipython",
    "version": 3
   },
   "file_extension": ".py",
   "mimetype": "text/x-python",
   "name": "python",
   "nbconvert_exporter": "python",
   "pygments_lexer": "ipython3",
   "version": "3.11.5"
  }
 },
 "nbformat": 4,
 "nbformat_minor": 2
}
